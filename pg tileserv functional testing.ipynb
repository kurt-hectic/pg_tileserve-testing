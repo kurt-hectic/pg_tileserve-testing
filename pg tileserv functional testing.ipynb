{
 "cells": [
  {
   "cell_type": "code",
   "execution_count": 1,
   "id": "4d739f24",
   "metadata": {},
   "outputs": [],
   "source": [
    "import mapbox_vector_tile\n",
    "import requests\n",
    "import datetime\n",
    "\n",
    "import pandas as pd "
   ]
  },
  {
   "cell_type": "code",
   "execution_count": 2,
   "id": "28ecc939",
   "metadata": {},
   "outputs": [],
   "source": [
    "def get_layer(url,fields,zoom=1):\n",
    "    \"\"\"fetches all tiles correponding to the zoom level and extracts fields from tiles as indicated by parameter fields\"\"\"\n",
    "    ret = []\n",
    "    i=0\n",
    "    for x in range(0,2**zoom):\n",
    "        for y in range(0,2**zoom):\n",
    "            ret = ret + get_and_decode_tile(url,zoom,x,y,fields)\n",
    "            i=i+1\n",
    "                \n",
    "    print(\"fetched\",i,\"tiles\")\n",
    "    return ret\n",
    "\n",
    "def get_and_decode_tile(url,zoom,x,y,fields):\n",
    "    \"\"\"fetches a tile, decodes it and extracts fields from it as per parameter fields. \n",
    "    Adds info on the tile the feature is contained in\"\"\"\n",
    "    \n",
    "    url = url.format(zoom=zoom,x=x,y=y)\n",
    "    #print(url)\n",
    "    #return []\n",
    "    \n",
    "    features = mapbox_vector_tile.decode(requests.get(url).content)\n",
    "    \n",
    "    if not features or len(features)==0:\n",
    "        return []\n",
    "    \n",
    "    ret = [ (f | {\"tile\": f\"{zoom}/{x}/{y}\"} )  for f in extract_features(list(features.values())[0][\"features\"],fields) ]\n",
    "    \n",
    "    return ret\n",
    "\n",
    "def extract_features(l,fields):\n",
    "    \"\"\"extracts and returns fields from list of features\"\"\"\n",
    "    return [ extract_feature(r,fields) for r in l ]\n",
    "\n",
    "def extract_feature(record,fields):\n",
    "    \"\"\"extracts features from a records as per fields parameter\"\"\"\n",
    "    props = record[\"properties\"]\n",
    "    \n",
    "    ret = { \n",
    "        \"coordinates\" : \"+\".join([str(g) for g in record[\"geometry\"][\"coordinates\"]]),\n",
    "        #\"lat\" : record[\"geometry\"][\"coordinates\"][0], \"lon\" : record[\"geometry\"][\"coordinates\"][1]\n",
    "    }\n",
    "    for f in fields + no_compare_field:\n",
    "        ret[f] = props.get(f,\"\")\n",
    "    \n",
    "    return ret\n"
   ]
  },
  {
   "cell_type": "code",
   "execution_count": 3,
   "id": "5e4e8ebe",
   "metadata": {},
   "outputs": [],
   "source": [
    "def group_df(df,fields):\n",
    "    \"\"\"sorts and groups dataframe object by determinictis logic\"\"\"\n",
    "    my_agg = { f:list for f in fields + no_compare_field}\n",
    "    return df.sort_values(by=[\"coordinates\"] + fields ).groupby(\"coordinates\").agg( my_agg )\n",
    "\n",
    "def compare_urls(url_old,url_new,fields,zoom=1):\n",
    "    \"\"\"main function. obtains tiles from old and new layers, groups features and compares them\"\"\"\n",
    "    b=datetime.datetime.now()\n",
    "    df_old = pd.DataFrame.from_records( get_layer(url_old,fields,zoom=zoom) )\n",
    "    print(f\"old:\",\"%.2f\" % (datetime.datetime.now()-b).total_seconds(),\"seconds\")\n",
    "\n",
    "    b=datetime.datetime.now()\n",
    "    df_new = pd.DataFrame.from_records( get_layer(url_new,fields,zoom=zoom) )\n",
    "    print(\"new:\",\"%.2f\" % (datetime.datetime.now()-b).total_seconds(),\"seconds\")\n",
    "    \n",
    "    print(\"nr records old\",len(df_old),\"nr records new\",len(df_new))\n",
    "    \n",
    "    grp_old = group_df(df_old,fields)\n",
    "    grp_new = group_df(df_new,fields)\n",
    "    \n",
    "    same = grp_old[fields].equals(grp_new[fields])\n",
    "    \n",
    "    s = \" \" if same else \" not \"\n",
    "    print(\"the records in the URLs are{}the same for zoom {}\".format(s,zoom))\n",
    "    \n",
    "    if not same:\n",
    "        diff_a = grp_old.index.difference(grp_new.index).values\n",
    "        diff_b = grp_new.index.difference(grp_old.index).values\n",
    "        print(\"old vs new:\",diff_a)\n",
    "        print(grp_old.loc[diff_a])\n",
    "        print(\"new vs old:\",diff_b)\n",
    "        print(grp_new.loc[diff_b])\n",
    "\n",
    "        \n",
    "    return grp_old,grp_new       "
   ]
  },
  {
   "cell_type": "code",
   "execution_count": 4,
   "id": "240cd5c2",
   "metadata": {},
   "outputs": [],
   "source": [
    "# fields used to match stations \n",
    "surface_fields = [\"nr_received\",\"nr_expected\",\"var_id\",\"in_oscar\"]\n",
    "ua_fields = [\"nr_received\",\"nr_expected\",\"availability\",\"in_oscar\",\"default_schedule\",\"country_id\"]\n",
    "no_compare_field = [\"station_id\",\"tile\"] # do not use these fields to compare stations"
   ]
  },
  {
   "cell_type": "code",
   "execution_count": 5,
   "id": "44836f86",
   "metadata": {},
   "outputs": [
    {
     "name": "stdout",
     "output_type": "stream",
     "text": [
      "fetched 16 tiles\n",
      "old: 7.48 seconds\n",
      "fetched 16 tiles\n",
      "new: 7.41 seconds\n",
      "nr records old 12218 nr records new 12218\n",
      "the records in the URLs are the same for zoom 2\n"
     ]
    }
   ],
   "source": [
    "# daily synop (zoom 2)\n",
    "url_old = \"https://wdqms-dev.wmo.int/wdqmsapi/vector-tiles/nwp/synop/daily/availability/110/true/{zoom}/{x}/{y}/?period_JMA=17044&period_ECMWF=17047&period_DWD=17026&period_NCEP=17045&date=2023-07-26\"\n",
    "url_new = \"https://wdqms-test.wmo.int/wdqmstiles/tileserv.synop_observationby_daily_period_combined/{zoom}/{x}/{y}.pbf?param_var_id=110&period_jma=17044&period_ecmwf=17047&period_ncep=17045&period_dwd=17026\"\n",
    "\n",
    "_=compare_urls(url_old,url_new,surface_fields,zoom=2)"
   ]
  },
  {
   "cell_type": "code",
   "execution_count": 6,
   "id": "bdc74d80",
   "metadata": {},
   "outputs": [
    {
     "name": "stdout",
     "output_type": "stream",
     "text": [
      "fetched 4 tiles\n",
      "old: 2.45 seconds\n",
      "fetched 4 tiles\n",
      "new: 2.06 seconds\n",
      "nr records old 11893 nr records new 11893\n",
      "the records in the URLs are the same for zoom 1\n"
     ]
    }
   ],
   "source": [
    "# 6h synop\n",
    "url_old = \"https://wdqms-dev.wmo.int/wdqmsapi/vector-tiles/nwp/synop/six_hour/availability/110/true/{zoom}/{x}/{y}/?period_ECMWF=64921&period_DWD=64877&period_NCEP=64904&period_JMA=64899&date=2023-07-26\"\n",
    "url_new = \"https://wdqms-test.wmo.int/wdqmstiles/tileserv.synop_observationby_sixhour_period_combined/{zoom}/{x}/{y}.pbf?param_var_id=110&period_jma=64900&period_dwd=64878&period_ecmwf=64922&period_ncep=64905\" \n",
    "\n",
    "_=compare_urls(url_old,url_new,surface_fields,zoom=1)"
   ]
  },
  {
   "cell_type": "code",
   "execution_count": 7,
   "id": "eb95e8ee",
   "metadata": {},
   "outputs": [
    {
     "name": "stdout",
     "output_type": "stream",
     "text": [
      "fetched 16 tiles\n",
      "old: 12.71 seconds\n",
      "fetched 16 tiles\n",
      "new: 7.24 seconds\n",
      "nr records old 11893 nr records new 11893\n",
      "the records in the URLs are the same for zoom 2\n"
     ]
    }
   ],
   "source": [
    "# 6h synop (zoom 2)\n",
    "url_old = \"https://wdqms-dev.wmo.int/wdqmsapi/vector-tiles/nwp/synop/six_hour/availability/110/true/{zoom}/{x}/{y}/?period_ECMWF=64921&period_DWD=64877&period_NCEP=64904&period_JMA=64899&date=2023-07-26\"\n",
    "url_new = \"https://wdqms-test.wmo.int/wdqmstiles/tileserv.synop_observationby_sixhour_period_combined/{zoom}/{x}/{y}.pbf?param_var_id=110&period_jma=64900&period_dwd=64878&period_ecmwf=64922&period_ncep=64905\" \n",
    "\n",
    "_=compare_urls(url_old,url_new,surface_fields,zoom=2)"
   ]
  },
  {
   "cell_type": "code",
   "execution_count": 8,
   "id": "22133b5d",
   "metadata": {},
   "outputs": [
    {
     "name": "stdout",
     "output_type": "stream",
     "text": [
      "fetched 4 tiles\n",
      "old: 2.80 seconds\n",
      "fetched 4 tiles\n",
      "new: 3.70 seconds\n",
      "nr records old 12218 nr records new 12218\n",
      "the records in the URLs are the same for zoom 1\n"
     ]
    }
   ],
   "source": [
    "# daily synop\n",
    "url_old = \"https://wdqms-dev.wmo.int/wdqmsapi/vector-tiles/nwp/synop/daily/availability/110/true/{zoom}/{x}/{y}/?period_JMA=17044&period_ECMWF=17047&period_DWD=17026&period_NCEP=17045&date=2023-07-26\"\n",
    "url_new = \"https://wdqms-test.wmo.int/wdqmstiles/tileserv.synop_observationby_daily_period_combined/{zoom}/{x}/{y}.pbf?param_var_id=110&period_jma=17044&period_ecmwf=17047&period_ncep=17045&period_dwd=17026\"\n",
    "\n",
    "#_=compare_urls(url_old,url_new,surface_fields,zoom=1)\n",
    "_=compare_urls(url_old,url_new,surface_fields,zoom=1)"
   ]
  },
  {
   "cell_type": "code",
   "execution_count": 9,
   "id": "e3605dcb",
   "metadata": {},
   "outputs": [
    {
     "name": "stdout",
     "output_type": "stream",
     "text": [
      "fetched 64 tiles\n",
      "old: 46.75 seconds\n",
      "fetched 64 tiles\n",
      "new: 45.83 seconds\n",
      "nr records old 12218 nr records new 12218\n",
      "the records in the URLs are the same for zoom 3\n"
     ]
    }
   ],
   "source": [
    "# daily synop (zoom 3)\n",
    "url_old = \"https://wdqms-dev.wmo.int/wdqmsapi/vector-tiles/nwp/synop/daily/availability/110/true/{zoom}/{x}/{y}/?period_JMA=17044&period_ECMWF=17047&period_DWD=17026&period_NCEP=17045&date=2023-07-26\"\n",
    "url_new = \"https://wdqms-test.wmo.int/wdqmstiles/tileserv.synop_observationby_daily_period_combined/{zoom}/{x}/{y}.pbf?param_var_id=110&period_jma=17044&period_ecmwf=17047&period_ncep=17045&period_dwd=17026\"\n",
    "\n",
    "#_=compare_urls(url_old,url_new,surface_fields,zoom=1)\n",
    "_=compare_urls(url_old,url_new,surface_fields,zoom=3)"
   ]
  },
  {
   "cell_type": "code",
   "execution_count": 10,
   "id": "d88ae9e7",
   "metadata": {},
   "outputs": [
    {
     "name": "stdout",
     "output_type": "stream",
     "text": [
      "fetched 4 tiles\n",
      "old: 3.20 seconds\n",
      "fetched 4 tiles\n",
      "new: 2.90 seconds\n",
      "nr records old 53 nr records new 53\n",
      "the records in the URLs are the same for zoom 1\n"
     ]
    }
   ],
   "source": [
    "# 6h temp, (zoom 1)\n",
    "url_old = \"https://wdqms-dev.wmo.int/wdqmsapi/vector-tiles/nwp/temp/six_hour/availability/2/true/{zoom}/{x}/{y}/?period_JMA=64887&period_DWD=64879&period_ECMWF=64922&period_NCEP=64909&date=2023-07-26\"\n",
    "url_new = \"https://wdqms-test.wmo.int/wdqmstiles/tileserv.temp_observationby_sixhour_period_combined/{zoom}/{x}/{y}.pbf?param_var_id=2&period_dwd=64880&period_ecmwf=64923&period_jma=64888&period_ncep=64910\"\n",
    "\n",
    "_=compare_urls(url_old,url_new,ua_fields,zoom=1)"
   ]
  },
  {
   "cell_type": "code",
   "execution_count": 11,
   "id": "05adaf9e",
   "metadata": {},
   "outputs": [
    {
     "name": "stdout",
     "output_type": "stream",
     "text": [
      "fetched 4 tiles\n",
      "old: 3.14 seconds\n",
      "fetched 4 tiles\n",
      "new: 2.81 seconds\n",
      "nr records old 985 nr records new 985\n",
      "the records in the URLs are the same for zoom 1\n"
     ]
    }
   ],
   "source": [
    "# daily temp (zoom 1)\n",
    "url_old = \"https://wdqms-dev.wmo.int/wdqmsapi/vector-tiles/nwp/temp/daily/availability/2/true/{zoom}/{x}/{y}/?period_ECMWF=17048&period_JMA=17042&period_DWD=17033&period_NCEP=17046&date=2023-07-26\"\n",
    "url_new = \"https://wdqms-test.wmo.int/wdqmstiles/tileserv.temp_observationby_daily_period_combined/{zoom}/{x}/{y}.pbf?param_var_id=2&period_dwd=17033&period_ncep=17046&period_jma=17042&period_ecmwf=17048\"\n",
    "\n",
    "_=compare_urls(url_old,url_new,ua_fields)"
   ]
  },
  {
   "cell_type": "code",
   "execution_count": null,
   "id": "e948c8f7",
   "metadata": {},
   "outputs": [],
   "source": []
  }
 ],
 "metadata": {
  "kernelspec": {
   "display_name": "Python (tileserv)",
   "language": "python",
   "name": "tileserv"
  },
  "language_info": {
   "codemirror_mode": {
    "name": "ipython",
    "version": 3
   },
   "file_extension": ".py",
   "mimetype": "text/x-python",
   "name": "python",
   "nbconvert_exporter": "python",
   "pygments_lexer": "ipython3",
   "version": "3.9.16"
  }
 },
 "nbformat": 4,
 "nbformat_minor": 5
}
